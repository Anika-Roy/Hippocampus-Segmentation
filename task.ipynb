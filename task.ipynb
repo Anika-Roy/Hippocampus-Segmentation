{
 "cells": [
  {
   "attachments": {},
   "cell_type": "markdown",
   "metadata": {},
   "source": [
    "# Tasks:\n",
    "1. Find a proper train test split\n",
    "2. Implement a model for the segmentation task.\n",
    "    - Find a proper loss function & explain the choice\n",
    "    - Provide the implementation of the model architecture, dataloader & training method\n",
    "    - Show that your implementation is working - one or two epochs are enough\n",
    "\n",
    "3. Extend your pipeline to create a flip-robust segmentation\n",
    "    - Add a second loss function, explain why this can be helpful and explain your choice\n",
    "    - Add a flip augmentation\n",
    "    - Show that your implementation is working - again one or two epochs are fine"
   ]
  },
  {
   "attachments": {},
   "cell_type": "markdown",
   "metadata": {},
   "source": [
    "About the datasets: (source : Continual Hippocampus Segmentation with Transformers)\n",
    "1. Dryad: contains 50 cases of healthy patients\n",
    "2. HarP: The Harmonized Hippocampal Protocol dataset, which we refer to as HarP, contains healthy subjects and patients with Alzheimer’s disease.\n",
    "\n",
    "I will be using the Dryad dataset for this task."
   ]
  },
  {
   "cell_type": "code",
   "execution_count": 16,
   "metadata": {},
   "outputs": [],
   "source": [
    "import torch\n",
    "import torch.nn as nn\n",
    "import torch.optim as optim\n",
    "from torch.utils.data import DataLoader, Dataset\n",
    "import numpy as np\n",
    "from sklearn.model_selection import train_test_split\n",
    "import os\n",
    "import glob\n",
    "import nibabel as nib\n"
   ]
  },
  {
   "attachments": {},
   "cell_type": "markdown",
   "metadata": {},
   "source": [
    "### Loading the dataset"
   ]
  },
  {
   "cell_type": "code",
   "execution_count": 17,
   "metadata": {},
   "outputs": [],
   "source": [
    "# Define a function to load and preprocess data for a single case\n",
    "def load_and_preprocess_case(data_dir, case_name):\n",
    "    # Construct the file paths for image and mask\n",
    "    image_file = os.path.join(data_dir, f\"{case_name}.nii.gz\")\n",
    "    mask_file = os.path.join(data_dir, f\"{case_name}_gt.nii.gz\")\n",
    "    \n",
    "    # Load MRI image data\n",
    "    img_data = nib.load(image_file).get_fdata()\n",
    "    \n",
    "    # Load the corresponding ground truth segmentation mask\n",
    "    mask_data = nib.load(mask_file).get_fdata()\n",
    "    \n",
    "    # Preprocess data as needed (e.g., resize, normalize)\n",
    "    # You may need to adapt this preprocessing based on your data\n",
    "    \n",
    "    return img_data, mask_data"
   ]
  },
  {
   "cell_type": "code",
   "execution_count": 18,
   "metadata": {},
   "outputs": [],
   "source": [
    "# Define a function to load and preprocess the entire dataset\n",
    "def load_and_preprocess_dataset(dataset_dir):\n",
    "    data = []\n",
    "    labels = []\n",
    "    \n",
    "    # Iterate through each case name\n",
    "    case_names = [f\"s{str(i).zfill(2)}_{hemi}\" for i in range(1, 26) for hemi in ['L', 'R']]\n",
    "    \n",
    "    for case_name in case_names:\n",
    "        img_data, mask_data = load_and_preprocess_case(dataset_dir, case_name)\n",
    "        \n",
    "        if img_data is not None and mask_data is not None:\n",
    "            data.append(img_data)\n",
    "            labels.append(mask_data)\n",
    "    \n",
    "    return data, labels"
   ]
  },
  {
   "cell_type": "code",
   "execution_count": 19,
   "metadata": {},
   "outputs": [],
   "source": [
    "# Specify the path to the \"Dryad\" dataset directory\n",
    "dryad_dataset_dir = 'datasets/Dryad'\n",
    "\n",
    "# Load and preprocess the \"Dryad\" dataset\n",
    "dryad_data, dryad_labels = load_and_preprocess_dataset(dryad_dataset_dir)"
   ]
  },
  {
   "cell_type": "code",
   "execution_count": 22,
   "metadata": {},
   "outputs": [
    {
     "name": "stdout",
     "output_type": "stream",
     "text": [
      "50\n",
      "50\n"
     ]
    }
   ],
   "source": [
    "# print dryad_data and dryad_labels\n",
    "print(len(dryad_data))\n",
    "print(len(dryad_labels))"
   ]
  },
  {
   "cell_type": "code",
   "execution_count": 34,
   "metadata": {},
   "outputs": [
    {
     "data": {
      "image/png": "[encoded data removed]",
      "text/plain": [
       "<Figure size 640x480 with 1 Axes>"
      ]
     },
     "metadata": {},
     "output_type": "display_data"
    },
    {
     "data": {
      "image/png": "[encoded data removed]",
      "text/plain": [
       "<Figure size 640x480 with 1 Axes>"
      ]
     },
     "metadata": {},
     "output_type": "display_data"
    }
   ],
   "source": [
    "# visualise the images and corresponsing mask for a single case as an image\n",
    "import matplotlib.pyplot as plt\n",
    "plt.imshow(dryad_data[2][:,:,10], cmap='gray')\n",
    "plt.show()\n",
    "\n",
    "plt.imshow(dryad_labels[2][:,:,10], cmap='gray')\n",
    "plt.show()"
   ]
  },
  {
   "attachments": {},
   "cell_type": "markdown",
   "metadata": {},
   "source": [
    "### Implement a model for the segmentation task"
   ]
  },
  {
   "cell_type": "code",
   "execution_count": 24,
   "metadata": {},
   "outputs": [
    {
     "name": "stdout",
     "output_type": "stream",
     "text": [
      "(48, 64, 64)\n",
      "(48, 64, 64)\n"
     ]
    }
   ],
   "source": [
    "# determining the shape of the data\n",
    "print(dryad_data[0].shape)\n",
    "print(dryad_labels[0].shape)"
   ]
  },
  {
   "cell_type": "code",
   "execution_count": 28,
   "metadata": {},
   "outputs": [
    {
     "name": "stdout",
     "output_type": "stream",
     "text": [
      "(48, 64, 64)\n"
     ]
    },
    {
     "ename": "TypeError",
     "evalue": "Cannot slice image objects; consider using `img.slicer[slice]` to generate a sliced image (see documentation for caveats) or slicing image array data with `img.dataobj[slice]` or `img.get_fdata()[slice]`",
     "output_type": "error",
     "traceback": [
      "\u001b[0;31m---------------------------------------------------------------------------\u001b[0m",
      "\u001b[0;31mTypeError\u001b[0m                                 Traceback (most recent call last)",
      "Cell \u001b[0;32mIn[28], line 8\u001b[0m\n\u001b[1;32m      5\u001b[0m \u001b[39m# Get the image data\u001b[39;00m\n\u001b[1;32m      6\u001b[0m img_data \u001b[39m=\u001b[39m img\u001b[39m.\u001b[39mget_fdata()\n\u001b[0;32m----> 8\u001b[0m slice1\u001b[39m=\u001b[39m(img[\u001b[39m48\u001b[39;49m,:,:])\n\u001b[1;32m      9\u001b[0m slice2\u001b[39m=\u001b[39m(img[:,\u001b[39m64\u001b[39m,:])\n\u001b[1;32m     10\u001b[0m slice3\u001b[39m=\u001b[39m(img[:,:,\u001b[39m64\u001b[39m])\n",
      "File \u001b[0;32m~/miniconda3/envs/ML/lib/python3.11/site-packages/nibabel/spatialimages.py:645\u001b[0m, in \u001b[0;36mSpatialImage.__getitem__\u001b[0;34m(self, idx)\u001b[0m\n\u001b[1;32m    639\u001b[0m \u001b[39mdef\u001b[39;00m \u001b[39m__getitem__\u001b[39m(\u001b[39mself\u001b[39m, idx: \u001b[39mobject\u001b[39m) \u001b[39m-\u001b[39m\u001b[39m>\u001b[39m \u001b[39mNone\u001b[39;00m:\n\u001b[1;32m    640\u001b[0m \u001b[39m    \u001b[39m\u001b[39m\"\"\"No slicing or dictionary interface for images\u001b[39;00m\n\u001b[1;32m    641\u001b[0m \n\u001b[1;32m    642\u001b[0m \u001b[39m    Use the slicer attribute to perform cropping and subsampling at your\u001b[39;00m\n\u001b[1;32m    643\u001b[0m \u001b[39m    own risk.\u001b[39;00m\n\u001b[1;32m    644\u001b[0m \u001b[39m    \"\"\"\u001b[39;00m\n\u001b[0;32m--> 645\u001b[0m     \u001b[39mraise\u001b[39;00m \u001b[39mTypeError\u001b[39;00m(\n\u001b[1;32m    646\u001b[0m         \u001b[39m'\u001b[39m\u001b[39mCannot slice image objects; consider using `img.slicer[slice]` \u001b[39m\u001b[39m'\u001b[39m\n\u001b[1;32m    647\u001b[0m         \u001b[39m'\u001b[39m\u001b[39mto generate a sliced image (see documentation for caveats) or \u001b[39m\u001b[39m'\u001b[39m\n\u001b[1;32m    648\u001b[0m         \u001b[39m'\u001b[39m\u001b[39mslicing image array data with `img.dataobj[slice]` or \u001b[39m\u001b[39m'\u001b[39m\n\u001b[1;32m    649\u001b[0m         \u001b[39m'\u001b[39m\u001b[39m`img.get_fdata()[slice]`\u001b[39m\u001b[39m'\u001b[39m\n\u001b[1;32m    650\u001b[0m     )\n",
      "\u001b[0;31mTypeError\u001b[0m: Cannot slice image objects; consider using `img.slicer[slice]` to generate a sliced image (see documentation for caveats) or slicing image array data with `img.dataobj[slice]` or `img.get_fdata()[slice]`"
     ]
    }
   ],
   "source": [
    "# Load a .nii.gz file\n",
    "img = nib.load('datasets/Dryad/s01_L.nii.gz')\n",
    "\n",
    "print(img.shape)\n",
    "# Get the image data\n",
    "img_data = img.get_fdata()\n",
    "\n",
    "slice1=(img[48,:,:])\n",
    "slice2=(img[:,64,:])\n",
    "slice3=(img[:,:,64])\n",
    "\n",
    "figure()\n",
    "imshow(slice2)\n",
    "show()"
   ]
  },
  {
   "cell_type": "code",
   "execution_count": 23,
   "metadata": {},
   "outputs": [],
   "source": [
    "class DoubleConv(nn.Module):\n",
    "    def __init__(self, in_channels, out_channels):\n",
    "        super(DoubleConv, self).__init__()\n",
    "        self.double_conv = nn.Sequential(\n",
    "            nn.Conv2d(in_channels, out_channels, kernel_size=3, padding=1),\n",
    "            nn.BatchNorm2d(out_channels),\n",
    "            nn.ReLU(inplace=True),\n",
    "            nn.Conv2d(out_channels, out_channels, kernel_size=3, padding=1),\n",
    "            nn.BatchNorm2d(out_channels),\n",
    "            nn.ReLU(inplace=True),\n",
    "        )\n",
    "\n",
    "    def forward(self, x):\n",
    "        return self.double_conv(x)\n",
    "    \n",
    "    \n",
    "class DownBlock(nn.Module):\n",
    "    def __init__(self, in_channels, out_channels):\n",
    "        super(DownBlock, self).__init__()\n",
    "        self.double_conv = DoubleConv(in_channels, out_channels)\n",
    "        self.down_sample = nn.MaxPool2d(2)\n",
    "\n",
    "    def forward(self, x):\n",
    "        skip_out = self.double_conv(x)\n",
    "        down_out = self.down_sample(skip_out)\n",
    "        return (down_out, skip_out)\n",
    "\n",
    "    \n",
    "class UpBlock(nn.Module):\n",
    "    def __init__(self, in_channels, out_channels, up_sample_mode):\n",
    "        super(UpBlock, self).__init__()\n",
    "        if up_sample_mode == 'conv_transpose':\n",
    "            self.up_sample = nn.ConvTranspose2d(in_channels-out_channels, in_channels-out_channels, kernel_size=2, stride=2)        \n",
    "        elif up_sample_mode == 'bilinear':\n",
    "            self.up_sample = nn.Upsample(scale_factor=2, mode='bilinear', align_corners=True)\n",
    "        else:\n",
    "            raise ValueError(\"Unsupported `up_sample_mode` (can take one of `conv_transpose` or `bilinear`)\")\n",
    "        self.double_conv = DoubleConv(in_channels, out_channels)\n",
    "\n",
    "    def forward(self, down_input, skip_input):\n",
    "        x = self.up_sample(down_input)\n",
    "        x = torch.cat([x, skip_input], dim=1)\n",
    "        return self.double_conv(x)\n",
    "\n",
    "    \n",
    "class UNet(nn.Module):\n",
    "    def __init__(self, in_channels, out_classes, up_sample_mode='conv_transpose'):\n",
    "        super(UNet, self).__init__()\n",
    "        self.up_sample_mode = up_sample_mode\n",
    "        # Downsampling Path\n",
    "        self.down_conv1 = DownBlock(in_channels, 64)\n",
    "        self.down_conv2 = DownBlock(64, 128)\n",
    "        self.down_conv3 = DownBlock(128, 256)\n",
    "        self.down_conv4 = DownBlock(256, 512)\n",
    "        # Bottleneck\n",
    "        self.double_conv = DoubleConv(512, 1024)\n",
    "        # Upsampling Path\n",
    "        self.up_conv4 = UpBlock(512 + 1024, 512, self.up_sample_mode)\n",
    "        self.up_conv3 = UpBlock(256 + 512, 256, self.up_sample_mode)\n",
    "        self.up_conv2 = UpBlock(128 + 256, 128, self.up_sample_mode)\n",
    "        self.up_conv1 = UpBlock(64 + in_channels, 64, self.up_sample_mode)\n",
    "        # Final Convolution\n",
    "        self.conv_last = nn.Conv2d(64, out_classes, kernel_size=1)\n",
    "\n",
    "    def forward(self, x):\n",
    "        x, skip1_out = self.down_conv1(x)\n",
    "        x, skip2_out = self.down_conv2(x)\n",
    "        x, skip3_out = self.down_conv3(x)\n",
    "        x, skip4_out = self.down_conv4(x)\n",
    "        x = self.double_conv(x)\n",
    "        x = self.up_conv4(x, skip4_out)\n",
    "        x = self.up_conv3(x, skip3_out)\n",
    "        x = self.up_conv2(x, skip2_out)\n",
    "        x = self.up_conv1(x, skip1_out)\n",
    "        x = self.conv_last(x)\n",
    "        return x"
   ]
  },
  {
   "cell_type": "code",
   "execution_count": null,
   "metadata": {},
   "outputs": [],
   "source": [
    "# Customize the number of input channels and output classes based on your dataset\n",
    "in_channels = 3  # Adjust this to match your data\n",
    "out_classes = 2  # Adjust this for your segmentation task\n",
    "\n",
    "# Get UNet model\n",
    "model = UNet(in_channels, out_classes)"
   ]
  },
  {
   "cell_type": "code",
   "execution_count": null,
   "metadata": {},
   "outputs": [],
   "source": [
    "# Define your custom dataset class for loading and preprocessing data\n",
    "class CustomDataset(Dataset):\n",
    "    def __init__(self, data, labels, transform=None):\n",
    "        self.data = data\n",
    "        self.labels = labels\n",
    "        self.transform = transform\n",
    "\n",
    "    def __len__(self):\n",
    "        return len(self.data)\n",
    "\n",
    "    def __getitem__(self, idx):\n",
    "        sample = {'image': self.data[idx], 'mask': self.labels[idx]}\n",
    "\n",
    "        if self.transform:\n",
    "            sample = self.transform(sample)\n",
    "\n",
    "        return sample"
   ]
  },
  {
   "cell_type": "code",
   "execution_count": null,
   "metadata": {},
   "outputs": [],
   "source": [
    "# Define the Dice loss function\n",
    "def dice_loss(pred, target):\n",
    "    intersection = torch.sum(pred * target)\n",
    "    union = torch.sum(pred) + torch.sum(target)\n",
    "    dice = (2 * intersection) / (union + 1e-5)  # Add epsilon for numerical stability\n",
    "    return 1 - dice"
   ]
  },
  {
   "cell_type": "code",
   "execution_count": null,
   "metadata": {},
   "outputs": [],
   "source": [
    "# Create train and test splits\n",
    "X_train, X_test, y_train, y_test = train_test_split(dryad_data, dryad_labels, test_size=0.3, random_state=42)\n",
    "\n",
    "# Create data loaders for training and testing\n",
    "train_dataset = CustomDataset(X_train, y_train)\n",
    "test_dataset = CustomDataset(X_test, y_test)\n",
    "train_loader = DataLoader(train_dataset, batch_size=16, shuffle=True)\n",
    "test_loader = DataLoader(test_dataset, batch_size=16)\n",
    "\n",
    "# Initialize your model\n",
    "model = UNet()\n",
    "\n",
    "# Define optimizer and loss function\n",
    "optimizer = optim.Adam(model.parameters(), lr=0.001)\n",
    "criterion = dice_loss  # You can use BCE loss as well"
   ]
  },
  {
   "cell_type": "code",
   "execution_count": null,
   "metadata": {},
   "outputs": [],
   "source": [
    "# Training loop\n",
    "num_epochs = 2\n",
    "device = torch.device('cuda' if torch.cuda.is_available() else 'cpu')\n",
    "model.to(device)\n",
    "\n",
    "for epoch in range(num_epochs):\n",
    "    model.train()\n",
    "    for batch in train_loader:\n",
    "        inputs, masks = batch['image'].to(device), batch['mask'].to(device)\n",
    "\n",
    "        optimizer.zero_grad()\n",
    "        outputs = model(inputs)\n",
    "\n",
    "        loss = criterion(outputs, masks)\n",
    "        loss.backward()\n",
    "        optimizer.step()\n",
    "\n",
    "    print(f'Epoch {epoch+1}/{num_epochs}, Loss: {loss.item()}')"
   ]
  },
  {
   "cell_type": "code",
   "execution_count": null,
   "metadata": {},
   "outputs": [],
   "source": [
    "# Evaluation\n",
    "model.eval()\n",
    "with torch.no_grad():\n",
    "    for batch in test_loader:\n",
    "        inputs, masks = batch['image'].to(device), batch['mask'].to(device)\n",
    "        outputs = model(inputs)\n",
    "\n",
    "        loss = criterion(outputs, masks)\n",
    "\n",
    "    print(f'Loss: {loss.item()}')"
   ]
  }
 ],
 "metadata": {
  "kernelspec": {
   "display_name": "ML",
   "language": "python",
   "name": "python3"
  },
  "language_info": {
   "codemirror_mode": {
    "name": "ipython",
    "version": 3
   },
   "file_extension": ".py",
   "mimetype": "text/x-python",
   "name": "python",
   "nbconvert_exporter": "python",
   "pygments_lexer": "ipython3",
   "version": "3.11.4"
  },
  "orig_nbformat": 4
 },
 "nbformat": 4,
 "nbformat_minor": 2
}
